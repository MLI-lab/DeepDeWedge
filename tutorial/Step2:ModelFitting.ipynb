{
 "cells": [
  {
   "cell_type": "markdown",
   "metadata": {},
   "source": [
    "# Step 2: Model Fitting"
   ]
  },
  {
   "cell_type": "code",
   "execution_count": 4,
   "metadata": {},
   "outputs": [],
   "source": [
    "from matplotlib import pyplot as plt\n",
    "import pandas as pd\n",
    "from typer_config import yaml_loader\n",
    "\n",
    "from ddw import fit_model\n",
    "from ddw.utils.print import pprint_dict, print_help_for_function_arguments"
   ]
  },
  {
   "cell_type": "markdown",
   "metadata": {},
   "source": [
    "\n",
    "## Fitting a Model on the Tutorial Data\n",
    "\n",
    "To fit a model on the tutorial data, we use the `fit-model` command of the `ddw` package. Sometimes, the commandline output is not properly displayed in Jupyter notebooks, so you might want to run the command in the next cell in the commandline rather than here.\n",
    "\n",
    "**Note:** Depending on your hardware, the model fitting process initiated in the following cell will take substantial time to complete. On our system with a single NVIDIA L40 GPU (46068 MiB memory), 252 GB RAM, and an AMD EPYC 9334 CPU with 128 logical cores, model fitting takes TODO hours when using a batch size of 5 and TODO CPU workers for data loading."
   ]
  },
  {
   "cell_type": "code",
   "execution_count": 6,
   "metadata": {},
   "outputs": [],
   "source": [
    "!conda run --no-capture-output -n ddw_env ddw fit-model --config ./config.yaml"
   ]
  },
  {
   "cell_type": "markdown",
   "metadata": {},
   "source": [
    "During fitting, model checkpoints (`.ckpt` files) and loss values are written to `tutorial_project/logs`. The model checkpoints are needed later for tomogram refinement in Step 3. Since for this tutorial, we are using the csv-logger (`logger=csv` in `./config.yaml`), loss values are available in a csv file, so we can plot the losses using `pandas` and `matplotlib`:"
   ]
  },
  {
   "cell_type": "code",
   "execution_count": 6,
   "metadata": {},
   "outputs": [
    {
     "data": {
      "text/plain": [
       "<matplotlib.legend.Legend at 0x7f4bacf9fbb0>"
      ]
     },
     "execution_count": 6,
     "metadata": {},
     "output_type": "execute_result"
    },
    {
     "data": {
      "image/png": "[encoded data removed]",
      "text/plain": [
       "<Figure size 700x500 with 1 Axes>"
      ]
     },
     "metadata": {},
     "output_type": "display_data"
    }
   ],
   "source": [
    "metrics = pd.read_csv(f\"tutorial_project/logs/version_0/metrics.csv\")\n",
    "\n",
    "plt.figure(figsize=(7,5))\n",
    "plt.plot(metrics[~metrics.fitting_loss.isna()].epoch, metrics.fitting_loss[~metrics.fitting_loss.isna()], marker=\"o\", label=\"fitting loss\")\n",
    "plt.plot(metrics[~metrics.val_loss.isna()].epoch, metrics.val_loss[~metrics.val_loss.isna()], marker=\"o\", label=\"validation loss\")\n",
    "\n",
    "plt.xlabel(\"epoch\")\n",
    "plt.ylabel(\"loss\")\n",
    "plt.legend(loc=\"best\")"
   ]
  },
  {
   "cell_type": "markdown",
   "metadata": {},
   "source": [
    "If you plan to do more systematic experiments with DeepDeWedge, we recommend using the more convenient TensorBoard logger by setting `logger=tensorboard` in the config file. For details on TensorBoard, and how to view the logs, please refer to the [official TensorBoard documentation](https://www.tensorflow.org/tensorboard/get_started)."
   ]
  },
  {
   "cell_type": "markdown",
   "metadata": {},
   "source": [
    "## Most Important Parameters of `fit_model` \n",
    "\n",
    "You can find a full list of parameters for `ddw fit-model` by executing\n",
    "```\n",
    "conda run -n ddw_env ddw fit-model --help\n",
    "```\n",
    "in the commandline. Here, we only discuss the most important parameters. The required parameters, which cover the most relevant functionality for most users, are:"
   ]
  },
  {
   "cell_type": "code",
   "execution_count": 7,
   "metadata": {},
   "outputs": [
    {
     "name": "stdout",
     "output_type": "stream",
     "text": [
      "ARGUMENT 'unet_params_dict'\n",
      "\tREQUIRED: True\n",
      "\tHELP: Dictionary of parameters for the U-Net model. See /opt/conda/lib/python3.10/site-packages/ddw/utils/unet.py for details.\n",
      "ARGUMENT 'adam_params_dict'\n",
      "\tREQUIRED: True\n",
      "\tHELP: Dictionary of parameters for PyTroch's the Adam optimizer. See tutorial notebook '2_fit_model.ipynb' or 'https://pytorch.org/docs/stable/generated/torch.optim.Adam.html#torch.optim.Adam' for details.\n",
      "ARGUMENT 'num_epochs'\n",
      "\tREQUIRED: True\n",
      "\tHELP: Number of epochs to fit the model.\n",
      "ARGUMENT 'batch_size'\n",
      "\tREQUIRED: True\n",
      "\tHELP: Batch size for the optimizer.\n",
      "ARGUMENT 'subtomo_size'\n",
      "\tREQUIRED: True\n",
      "\tHELP: Size of the cubic subtomograms used for model fitting.\n",
      "ARGUMENT 'mw_angle'\n",
      "\tREQUIRED: True\n",
      "\tHELP: Width of the missing wedge in degrees.\n",
      "ARGUMENT 'gpus'\n",
      "\tREQUIRED: True\n",
      "\tHELP: List of GPUs to use for training.\n",
      "ARGUMENT 'num_workers'\n",
      "\tREQUIRED: True\n",
      "\tHELP: Number of CPU workers to use for data loading. If fitting is slow, try increasing this number.\n"
     ]
    }
   ],
   "source": [
    "print_help_for_function_arguments(fit_model, print_only_required=True)"
   ]
  },
  {
   "cell_type": "markdown",
   "metadata": {},
   "source": [
    "The parameter `unet_params_dict` requires some more explanation. It is a dictionary that contains the parameters for the U-Net model. In our example, we use:"
   ]
  },
  {
   "cell_type": "code",
   "execution_count": 8,
   "metadata": {},
   "outputs": [
    {
     "name": "stdout",
     "output_type": "stream",
     "text": [
      "chans: 64\n",
      "drop_prob: 0.0\n",
      "num_downsample_layers: 3\n",
      "\n"
     ]
    }
   ],
   "source": [
    "config = yaml_loader(\"./config.yaml\")\n",
    "pprint_dict(config[\"fit_model\"][\"unet_params_dict\"])"
   ]
  },
  {
   "cell_type": "markdown",
   "metadata": {},
   "source": [
    "The meaning of the parameters is as follows:\n",
    "- `chans`: Number of feature channels in the convolutionsal blocks before the first dowsampling layer.\n",
    "- `num_downsample_layers`: Number of downsampling layers in the U-Net. After each downsampling layer, the number of feature channels is doubled.\n",
    "- `drop_prob`: Dropout probability in the U-Net, we recommend setting this to 0.0 unless you observe overfitting.\n",
    "\n",
    "To adjust the model complexity, we recommend changing the `chans` parameter. A higher value will increase the number of parameters in the model, but also the time consumption of model fitting. A lower value will decrease the number of parameters, but allows faster fitting."
   ]
  }
 ],
 "metadata": {
  "kernelspec": {
   "display_name": "Python 3.10.13 ('base')",
   "language": "python",
   "name": "python3"
  },
  "language_info": {
   "codemirror_mode": {
    "name": "ipython",
    "version": 3
   },
   "file_extension": ".py",
   "mimetype": "text/x-python",
   "name": "python",
   "nbconvert_exporter": "python",
   "pygments_lexer": "ipython3",
   "version": "3.10.13"
  },
  "orig_nbformat": 4,
  "vscode": {
   "interpreter": {
    "hash": "d4d1e4263499bec80672ea0156c357c1ee493ec2b1c70f0acce89fc37c4a6abe"
   }
  }
 },
 "nbformat": 4,
 "nbformat_minor": 2
}
